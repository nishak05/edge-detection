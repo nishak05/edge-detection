{
  "nbformat": 4,
  "nbformat_minor": 0,
  "metadata": {
    "colab": {
      "provenance": []
    },
    "kernelspec": {
      "name": "python3",
      "display_name": "Python 3"
    },
    "language_info": {
      "name": "python"
    }
  },
  "cells": [
    {
      "cell_type": "code",
      "execution_count": null,
      "metadata": {
        "id": "JzVr76fQOXFy"
      },
      "outputs": [],
      "source": [
        "import cv2"
      ]
    },
    {
      "cell_type": "code",
      "source": [
        "img=cv2.imread('messi5.jpg')"
      ],
      "metadata": {
        "id": "gUMIcR9rOc55"
      },
      "execution_count": null,
      "outputs": []
    },
    {
      "cell_type": "code",
      "source": [
        "img_edge=cv2.Canny(img,250,400)"
      ],
      "metadata": {
        "id": "iDbbwvLpOgGE"
      },
      "execution_count": null,
      "outputs": []
    },
    {
      "cell_type": "code",
      "source": [
        "cv2.imshow('img',img)\n",
        "cv2.imshow('img_edge',img_edge)\n",
        "cv2.waitKey(0)"
      ],
      "metadata": {
        "id": "72Q3iT1XOjHv"
      },
      "execution_count": null,
      "outputs": []
    },
    {
      "cell_type": "markdown",
      "source": [
        "or\n"
      ],
      "metadata": {
        "id": "c9n-arcbOp7g"
      }
    },
    {
      "cell_type": "code",
      "source": [
        "import cv2\n",
        "import numpy as np\n"
      ],
      "metadata": {
        "id": "Ir6BVYm_Os-R"
      },
      "execution_count": null,
      "outputs": []
    },
    {
      "cell_type": "code",
      "source": [
        "img=cv2.imread('building.jpg')"
      ],
      "metadata": {
        "id": "dhnzUQNnOw3U"
      },
      "execution_count": null,
      "outputs": []
    },
    {
      "cell_type": "code",
      "source": [
        "img_edge=cv2.Canny(img,150,450)\n",
        "\n",
        "img_d=cv2.dilate(img_edge, np.ones((5,5), dtype=np.int8))\n",
        "\n",
        "img_e=cv2.erode(img_d, np.ones((5,5), dtype=np.int8))\n"
      ],
      "metadata": {
        "id": "sC8hC4mDOzdb"
      },
      "execution_count": null,
      "outputs": []
    },
    {
      "cell_type": "code",
      "source": [
        "cv2.imshow('img',img)\n",
        "cv2.imshow('img_edge',img_edge)\n",
        "cv2.imshow('img_dilate',img_d)\n",
        "cv2.imshow('img_erode',img_e)\n",
        "cv2.waitKey(0)"
      ],
      "metadata": {
        "id": "o8HMmvlCO2G6"
      },
      "execution_count": null,
      "outputs": []
    }
  ]
}